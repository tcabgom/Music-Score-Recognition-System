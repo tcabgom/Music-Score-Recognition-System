{
 "cells": [
  {
   "cell_type": "markdown",
   "id": "9b326593-55c9-463e-97f5-157e72896d9a",
   "metadata": {},
   "source": [
    "# **Reconocimiento de partituras musicales**\n",
    "\n",
    "En este documento se condensa todo el código realizado para el reconocimiento de partituras musicales. De este modo, se pretende que la ejecución y la interpretación de las funciones implementadas sea la más clara y sencilla posible.\n",
    "\n",
    "Este trabajo ha sido realizado por:\n",
    "\n",
    "- Carlos Bermejo Soria\n",
    "- Tadeo Cabrera Gómez\n",
    "- Jesús Solís Ortega\n",
    "\n",
    "## **Índice**\n",
    "\n",
    "1. [Inicialización](#1-inicialización)\n",
    "2. [Segmentación por Regiones](#2-segmentación-por-regiones)\n",
    "   1. [Transformación Binaria](#21-transformación-binaria)\n",
    "   2. [Histograma de Proyección Horizontal](#22-histograma-de-proyección-horizontal)\n",
    "   3. [Segmentación por Regiones](#23-segmentación-por-regiones)\n",
    "3. [Preprocesamiento de imágenes](#3-preprocesamiento-de-imágenes)\n",
    "   1. [Filtrado de líneas del pentagrama](#31-filtrado-de-líneas-del-pentagrama)\n",
    "4. [Reconocimiento de notas](#4-reconocimiento-de-notas)\n",
    "   1. [Filtrado de tallos](#41-filtrado-de-tallos)"
   ]
  },
  {
   "cell_type": "markdown",
   "id": "56e7d205-d3de-4b9c-af61-4f5ef2113f42",
   "metadata": {},
   "source": [
    "### **1. Inicialización**\n",
    "\n",
    "Antes de comenzar la ejecución de las funciones implementadas en el trabajo, es fundamental suplir las necesidades de las mismas. Parra ello, se ha preparado una celda código que recoge todas las necesidades mínimas del código utilizado. Esta celda es fundamental ejecutarla para el correcto funcionamiento del resto del cuadernillo. Para ejecutarla haga clic en la celda y presione _CONTROL + ENTER_."
   ]
  },
  {
   "cell_type": "code",
   "execution_count": null,
   "id": "2e1a8d9f-1b9a-4780-bc44-916acc5c0eef",
   "metadata": {
    "scrolled": true
   },
   "outputs": [],
   "source": [
    "%%capture\n",
    "\n",
    "#Comente la línea \"%%capture\" si desea ver la consola de instalación\n",
    "#Creación de un entorno virtual\n",
    "!pip install virtualenv\n",
    "!python -m venv venv\n",
    "!venv\\Scripts\\activate\n",
    "\n",
    "#Instalación de los paquetes de \"requirements.txt\"\n",
    "!python --version\n",
    "!python.exe -m pip install --upgrade pip\n",
    "!pip install -r ../requirements.txt\n",
    "\n",
    "#Importación de las librerías\n",
    "import matplotlib.pyplot as plt\n",
    "import numpy as np\n",
    "import cv2\n",
    "import skimage\n",
    "\n",
    "#Cambio a la ruta de los archivos de python de nuestro programa\n",
    "import sys\n",
    "sys.path.append('../src')"
   ]
  },
  {
   "cell_type": "markdown",
   "id": "864ff5ef-ebbc-426e-9e08-a3519205bdd3",
   "metadata": {},
   "source": [
    "En caso de que exista un error en la instalación, contacte con el equipo de trabajo lo antes posible. Si desea ver una traza del error, puede comentar la línea _\"%%capture\"_ utilizando la almohadilla (#).\n",
    "\n",
    "Además, es indispensable cargar la imagen de prueba. Existen diversas fotos en la batería de prueba, si desea cambiar la imagen con la que probar las funciones, **cambie el parámetro n** de la siguiente celda a un valor entre 1 y 10. Cada una de las fotografías se corresponde con una partitura diferente."
   ]
  },
  {
   "cell_type": "code",
   "execution_count": null,
   "id": "b0a1e8b5-d75f-4ec6-8056-2a1b0dd97a87",
   "metadata": {},
   "outputs": [],
   "source": [
    "n = 3 #Elija un valor entre 1 y 10 para \"n\"\n",
    "\n",
    "n = 1 if (n>10 or n<1) else n\n",
    "image = cv2.imread(r'../images/Test Sheet '+str(n)+'.png')\n",
    "print(\"Imagen \"+str(n)+\" leída correctamente\")"
   ]
  },
  {
   "cell_type": "markdown",
   "id": "045a742e-8323-4253-b032-43895ee7b1ca",
   "metadata": {},
   "source": [
    "Si desea recargar los módulos de python, cargue la siguiente celda."
   ]
  },
  {
   "cell_type": "code",
   "execution_count": null,
   "id": "ea576e01-c2d6-4228-87f3-659ec842f75d",
   "metadata": {},
   "outputs": [],
   "source": [
    "from importlib import reload\n",
    "import stuff_region_segmentation\n",
    "import note_recognition\n",
    "import image_preprocessing\n",
    "import accidental_and_rest_recognition\n",
    "reload(stuff_region_segmentation)\n",
    "reload(note_recognition)\n",
    "reload(image_preprocessing)\n",
    "reload(accidental_and_rest_recognition)\n",
    "\n",
    "print(\"Módulos recargados\")"
   ]
  },
  {
   "cell_type": "markdown",
   "id": "9f43e15a-35c1-4e01-87e2-aa35f2bd95fa",
   "metadata": {},
   "source": [
    "### **2. Segmentación por regiones**\n",
    "\n",
    "La segmentación por regiones es un proceso que permite al sistema adivinar las posiciones de las líneas del pentagrama. Esto facilita el reconocimiento de notas que se realizará posteriormente.\n",
    "\n",
    "### 2.1. Transformación binaria\n",
    "\n",
    "La transformación binaria toma la imagen original de la partitura y convierte sus niveles digitales en valores de 0 o 255 exclusivamente. Para ello, hace uso de la función _threshold_ de OpenCV.\n",
    "\n",
    "En el ejemplo, la transformación binaria se realiza sobre la imagen y el resultado es mostrado en pantalla. Además, se realiza una imprimición de los niveles digitales de la imagen binaria para comprobar que, efectivamente, funciona.\n"
   ]
  },
  {
   "cell_type": "code",
   "execution_count": null,
   "id": "407e0605-ab65-4123-b70b-37cf0bf15a93",
   "metadata": {},
   "outputs": [],
   "source": [
    "import stuff_region_segmentation\n",
    "\n",
    "binary_image = stuff_region_segmentation.binary_transform(image)\n",
    "digital_levels_image = set(image.flatten())\n",
    "digital_levels_binary = set(binary_image.flatten())\n",
    "\n",
    "print(\"- Niveles digitales de la imagen original: \",digital_levels_image,\"\\n\")\n",
    "print(\"- Niveles digitales de la imagen binaria: \",digital_levels_binary, \"\\n\")\n",
    "\n",
    "plt.imshow(binary_image, cmap='gray')\n",
    "plt.axis('off') \n",
    "plt.title('Transformación Binaria')\n",
    "plt.show()\n",
    "\n"
   ]
  },
  {
   "cell_type": "markdown",
   "id": "47602360-3cb8-4083-8108-ad97697faeea",
   "metadata": {},
   "source": [
    "### 2.2. Proyección horizontal\n",
    "\n",
    "La proyección horizontal es un método que permite obtener un histograma de proyección horizontal de cada una de las líneas horizontales que componen la imagen. La entrada de la función es una imagen binaria y el resultado de la misma es una imagen que representa visualmente el histograma de proyección horizontal.\n",
    "\n",
    "Podemos ver que cada uno de los picos obvios del histograma, se corresponde con cada una de las líneas del pentagrama."
   ]
  },
  {
   "cell_type": "code",
   "execution_count": null,
   "id": "8c3a3985-c995-478b-a9be-0025188fd4bb",
   "metadata": {},
   "outputs": [],
   "source": [
    "import stuff_region_segmentation\n",
    "\n",
    "horizontal_proyection_histogram = stuff_region_segmentation.horizontal_projection(binary_image)\n",
    "histogram_image = stuff_region_segmentation.get_histogram_image(binary_image, horizontal_proyection_histogram)\n",
    "\n",
    "fig, axes = plt.subplots(1, 2, figsize=(12, 6))\n",
    "axes[0].imshow(binary_image, cmap='gray');axes[0].set_title('Imagen Binaria');axes[0].axis('off')\n",
    "axes[1].imshow(histogram_image, cmap='gray');axes[1].set_title('Histograma de Proyección Horizontal');axes[1].axis('off')\n",
    "plt.show()"
   ]
  },
  {
   "cell_type": "markdown",
   "id": "43b12613-89d1-4d23-a7fe-5cfce89075e3",
   "metadata": {},
   "source": [
    "### 2.3. Segmentación por regiones\n",
    "\n",
    "El objetivo de la segmentación por regiones es segmentar partes del pentagrama para trabajar en ellas independientemente a posteriori. Nuestra función recibe como parámetro una imagen que represente el histograma de proyección horizontal y genera una imagen que delimita las líneas del pentagrama."
   ]
  },
  {
   "cell_type": "code",
   "execution_count": null,
   "id": "57099051-a78c-4b50-8c38-4b6b4da49717",
   "metadata": {},
   "outputs": [],
   "source": [
    "import stuff_region_segmentation\n",
    "\n",
    "staff_lines = stuff_region_segmentation.region_segmentation(binary_image, horizontal_proyection_histogram)\n",
    "\n",
    "fig, axes = plt.subplots(1, 2, figsize=(12, 6))\n",
    "axes[0].imshow(binary_image, cmap='gray');axes[0].set_title('Imagen Binaria');axes[0].axis('off')\n",
    "axes[1].imshow(staff_lines, cmap='gray');axes[1].set_title('Líneas del pentagrama');axes[1].axis('off')\n",
    "plt.show()"
   ]
  },
  {
   "cell_type": "markdown",
   "id": "fd1d5b75-b5ba-42d2-b546-1e4d02a2de87",
   "metadata": {},
   "source": [
    "Una vez hemos obtenido las líneas del pentagrama en una imagen, podemos obtener las columnas que tienen líneas de pentagrama y las posiciones de cada una de estas líneas dentro de la imagen, separadas por las distintas filas de la partitura."
   ]
  },
  {
   "cell_type": "code",
   "execution_count": null,
   "id": "35ae392b-7323-48b4-b94d-ae8d7be35940",
   "metadata": {},
   "outputs": [],
   "source": [
    "import stuff_region_segmentation\n",
    "\n",
    "columns_with_lines = stuff_region_segmentation.get_black_column_positions(staff_lines)\n",
    "print('\\n- Columnas con líneas de pentagrama:', columns_with_lines,'\\n')\n",
    "\n",
    "staff_lines_positions = stuff_region_segmentation.get_staff_lines_positions(columns_with_lines)\n",
    "print('- Posiciones de las líneas del pentagrama:', staff_lines_positions,'\\n')"
   ]
  },
  {
   "cell_type": "markdown",
   "id": "935c5bfb-d8dd-4e52-b753-7c1e0d3bfc87",
   "metadata": {},
   "source": [
    "### **3. Preprocesamiento de imágenes**\n",
    "\n",
    "Durante el preprocesamiento de imágenes, se prepara la imagen eliminando las líneas del pentagrama y recuperando los posibles daños causados a las notas y símbolos que aparecen a lo largo de la partitura.\n",
    "\n",
    "### 3.1. Filtrado de líneas del pentagrama\n",
    "\n",
    "Para el filtrado de las líneas se utilizan tanto la imagen binaria como la imagen con las líneas del pentagrama. Se utilizan las funciones _bitwise_not_, _bitwise_and_ y _bitwise_or_ para combinar las imágenes de modo que finalmente se obtenga una nueva imagen que solo contiene los símbolos musicales."
   ]
  },
  {
   "cell_type": "code",
   "execution_count": null,
   "id": "cf448abb-c29c-49d3-b99b-20dac73c381e",
   "metadata": {},
   "outputs": [],
   "source": [
    "import image_preprocessing\n",
    "\n",
    "image_without_lines = image_preprocessing.staff_line_filtering(binary_image, staff_lines)\n",
    "\n",
    "fig, axes = plt.subplots(1, 2, figsize=(12, 6))\n",
    "axes[0].imshow(binary_image, cmap='gray');axes[0].set_title('Imagen Binaria');axes[0].axis('off')\n",
    "axes[1].imshow(image_without_lines, cmap='gray');axes[1].set_title('Imagen sin líneas');axes[1].axis('off')\n",
    "plt.show()"
   ]
  },
  {
   "cell_type": "markdown",
   "id": "868759ca-a749-4347-9e79-df0f80e9cd67",
   "metadata": {},
   "source": [
    "### **4. Reconocimiento de notas**\n",
    "\n",
    "El reconocimiento de notas es el proceso mediante el cual el programa detecta dónde está cada una de las notas en la partitura y analiza su tono y pulso o ritmo.\n",
    "\n",
    "### 4.1. Filtrado de tallos\n",
    "\n",
    "Casi toda nota musical posee un tallo vertical que une la cabeza y la cola de la nota. Para poder proceder a un correcto análisis del tono, es conveniente eliminar el tallo y así filtrar a posteriori las cabezas de las notas.\n",
    "\n",
    "Para filtrar los tallos, primero hay que dividir la partitura en cada uno de los pentagramas que la componen. Para ello la función _divide_staff_ divide la partitura recortando la imagen de entrada según la lista de posiciones de las líneas de cada pentagrama. Conociendo las posiciones de las líneas, no es difícil hallar puntos medios entre un pentagrama y otro y así recortar la imagen debidamente."
   ]
  },
  {
   "cell_type": "code",
   "execution_count": null,
   "id": "68241ce1-f383-4fb8-b01d-b10e6f894f3b",
   "metadata": {},
   "outputs": [],
   "source": [
    "import note_recognition\n",
    "\n",
    "staff_images = note_recognition.divide_staff(image_without_lines, staff_lines_positions)\n",
    "\n",
    "fig, axes = plt.subplots(1,len(staff_images), figsize=(15,5))\n",
    "for i in range(0,len(staff_images)):\n",
    "    axes[i].imshow(staff_images[i],cmap=\"gray\"); axes[i].set_title(\"Pentagrama \" + str(i))\n",
    "plt.show()"
   ]
  },
  {
   "cell_type": "markdown",
   "id": "dc35df83-0d3c-464a-8693-a2c4400f7505",
   "metadata": {},
   "source": [
    "Para el filtrado de tallos final, la función _stem_filtering_ realiza un análisis de **proyección vertical** similar al del histograma de proyección horizontal. De este modo, allí donde el histograma presenta picos que superan cierto umbral, se pinta una línea vertical y se compone una imagen completa con cada uno de los pentagramas obtenidos anteriormente. Para finalizar, se vuelve a hacer uso de _staff_line_preprocessing_ para eliminar de la imagen sin líneas también los tallos (además de los compases). "
   ]
  },
  {
   "cell_type": "code",
   "execution_count": null,
   "id": "6f1ffe51-6efa-4c26-91d4-7dcbf00056ee",
   "metadata": {},
   "outputs": [],
   "source": [
    "import note_recognition\n",
    "\n",
    "stem_lines = note_recognition.stem_filtering(staff_images)\n",
    "image_without_stems = image_preprocessing.staff_line_filtering(image_without_lines, stem_lines)\n",
    "\n",
    "fig, axes = plt.subplots(1, 2, figsize=(12, 6))\n",
    "axes[0].imshow(stem_lines, cmap='gray');axes[0].set_title('Tallos');axes[0].axis('off')\n",
    "axes[1].imshow(image_without_stems, cmap='gray');axes[1].set_title('Imagen sin tallos');axes[1].axis('off')\n",
    "plt.show()"
   ]
  },
  {
   "cell_type": "code",
   "execution_count": null,
   "id": "a65e83b7-410c-4d6f-87c8-96c40a4975f9",
   "metadata": {},
   "outputs": [],
   "source": []
  }
 ],
 "metadata": {
  "kernelspec": {
   "display_name": "Python 3 (ipykernel)",
   "language": "python",
   "name": "python3"
  },
  "language_info": {
   "codemirror_mode": {
    "name": "ipython",
    "version": 3
   },
   "file_extension": ".py",
   "mimetype": "text/x-python",
   "name": "python",
   "nbconvert_exporter": "python",
   "pygments_lexer": "ipython3",
   "version": "3.8.0"
  }
 },
 "nbformat": 4,
 "nbformat_minor": 5
}
